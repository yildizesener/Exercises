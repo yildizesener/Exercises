{
 "cells": [
  {
   "cell_type": "markdown",
   "metadata": {},
   "source": [
    "__Assignment #2__"
   ]
  },
  {
   "cell_type": "code",
   "execution_count": null,
   "metadata": {},
   "outputs": [],
   "source": [
    "def get_principal():\n",
    "    raw = input('Please enter the principal amount in $ (e.g. $7,263.45): ')\n",
    "    P = float(''.join([x for x in raw if x not in ['$', ',']]))\n",
    "    return P\n",
    "\n",
    "def get_rate():\n",
    "    raw = input('Please enter the interest rate (e.g. 2.5%): ')\n",
    "    return float(''.join([x for x in raw if x != '%']))\n",
    "\n",
    "def get_periods():\n",
    "    n = input('Please enter the number of compounding periods in a year (12 for monthly compounding): ')\n",
    "    return int(n)\n",
    "\n",
    "def get_time():\n",
    "    t = input('Please enter the number of years: ')\n",
    "    return int(t)"
   ]
  },
  {
   "cell_type": "code",
   "execution_count": null,
   "metadata": {
    "scrolled": true
   },
   "outputs": [],
   "source": [
    "def calculate_interest():\n",
    "    P = get_principal()\n",
    "    r = get_rate()\n",
    "    n = get_periods()\n",
    "    t = get_time()\n",
    "    total_amount = P * (1 + (r / n))**(n*t)\n",
    "    total_interest = total_amount - P\n",
    "    print()\n",
    "    print('The initial investment was: ${:,.2f}'.format(P))\n",
    "    print('Total amount of interest earned: ${:,.2f}'.format(total_interest))\n",
    "    print('Current balance in the account: ${:,.2f}'.format(total_amount))"
   ]
  },
  {
   "cell_type": "code",
   "execution_count": null,
   "metadata": {},
   "outputs": [],
   "source": [
    "calculate_interest()"
   ]
  },
  {
   "cell_type": "markdown",
   "metadata": {},
   "source": [
    "__Assignment #3__"
   ]
  },
  {
   "cell_type": "code",
   "execution_count": null,
   "metadata": {},
   "outputs": [],
   "source": [
    "def find_square_root():\n",
    "    x = int(input('Please enter a non-negative integer (e.g. 5): '))\n",
    "    \n",
    "    while x < 0:\n",
    "        print('The integer has to be above 0.')\n",
    "        x = int(input('Please enter a non-negative integer (e.g. 5): '))\n",
    "    \n",
    "    if x == 0:\n",
    "        return 0\n",
    "    \n",
    "    epsilon = 0.0001\n",
    "    e = x\n",
    "    flag = True\n",
    "    while flag:\n",
    "        e1 = (1 / 2) * (e + (x / e))\n",
    "        error = abs(e - e1)\n",
    "        if error < epsilon:\n",
    "            flag = False\n",
    "        e = e1\n",
    "    print(f'The square root of {x} is {round(e, 3)}')"
   ]
  },
  {
   "cell_type": "code",
   "execution_count": null,
   "metadata": {},
   "outputs": [],
   "source": [
    "find_square_root()"
   ]
  },
  {
   "cell_type": "markdown",
   "metadata": {},
   "source": [
    "__Assignment #4__"
   ]
  },
  {
   "cell_type": "code",
   "execution_count": null,
   "metadata": {},
   "outputs": [],
   "source": [
    "def play_blackjack():\n",
    "    from random import randint\n",
    "    dealer = randint(16, 21)\n",
    "    hand = 0\n",
    "    for i in range(2):\n",
    "        hand += randint(1, 10)\n",
    "    \n",
    "    print('The total of your hand is {}'.format(hand))\n",
    "    \n",
    "    response = input('What would you like to do? (HIT or STAY)')\n",
    "    while not (response == 'HIT' or response == 'STAY'):\n",
    "        print('Please enter HIT or STAY')\n",
    "        response = input('What would you like to do? (HIT or STAY)')\n",
    "    \n",
    "    while response == 'HIT':\n",
    "        hand += randint(1, 10)\n",
    "        print('The total of your hand is {}'.format(hand))\n",
    "        if hand > 21:\n",
    "            print('Gone Bust. You Lose!!!')\n",
    "            return\n",
    "        response = input('What would you like to do? (HIT or STAY)')\n",
    "        while not (response == 'HIT' or response == 'STAY'):\n",
    "            print('Please enter HIT or STAY')\n",
    "            response = input('What would you like to do? (HIT or STAY)')\n",
    "    \n",
    "    if dealer > hand:\n",
    "        print('Dealer hand is {}'.format(dealer))\n",
    "        print('You Lose. Dealer Won.')\n",
    "    else:\n",
    "        print('You Won. Congratulations!!!')\n",
    "    \n",
    "    response = input('Would you like to play another hand (YES or NO):')\n",
    "    if response == 'YES':\n",
    "        play_blackjack()\n",
    "    else:\n",
    "        print('Thank you!!! See you next time.')\n",
    "        return"
   ]
  },
  {
   "cell_type": "code",
   "execution_count": 1,
   "metadata": {},
   "outputs": [],
   "source": [
    "from random import randint"
   ]
  },
  {
   "cell_type": "code",
   "execution_count": 7,
   "metadata": {},
   "outputs": [],
   "source": [
    "def get_player_score():\n",
    "    hand = 0\n",
    "    for i in range(2):\n",
    "        hand += randint(1, 10)\n",
    "    print('The total of your hand is {}'.format(hand))\n",
    "\n",
    "    response = input('What would you like to do? (HIT or STAY)')\n",
    "    while not (response == 'HIT' or response == 'STAY'):\n",
    "        print('Please enter HIT or STAY')\n",
    "        response = input('What would you like to do? (HIT or STAY)')\n",
    "    while response == 'HIT':\n",
    "        hand += deal_card()\n",
    "        print('The total of your hand is {}'.format(hand))\n",
    "        if hand > 21:\n",
    "            print('Gone Bust. You Lose!!!')\n",
    "            return\n",
    "        response = input('What would you like to do? (HIT or STAY)')\n",
    "        while not (response == 'HIT' or response == 'STAY'):\n",
    "            print('Please enter HIT or STAY')\n",
    "            response = input('What would you like to do? (HIT or STAY)')\n",
    "    return hand"
   ]
  },
  {
   "cell_type": "code",
   "execution_count": 3,
   "metadata": {},
   "outputs": [],
   "source": [
    "def deal_card():\n",
    "    return randint(1, 10)"
   ]
  },
  {
   "cell_type": "code",
   "execution_count": 4,
   "metadata": {},
   "outputs": [],
   "source": [
    "def get_dealer_score():\n",
    "    return randint(16, 21)"
   ]
  },
  {
   "cell_type": "code",
   "execution_count": 5,
   "metadata": {},
   "outputs": [],
   "source": [
    "def main():\n",
    "    hand = get_player_score()\n",
    "    dealer = get_dealer_score()\n",
    "    if dealer > hand:\n",
    "        print('Dealer hand is {}'.format(dealer))\n",
    "        print('You Lose. Dealer Won.')\n",
    "    else:\n",
    "        print('You Won. Congratulations!!!')\n",
    "    \n",
    "    response = input('Would you like to play another hand (YES or NO):')\n",
    "    if response == 'YES':\n",
    "        main()\n",
    "    else:\n",
    "        print('Thank you!!! See you next time.')\n",
    "        return"
   ]
  },
  {
   "cell_type": "code",
   "execution_count": 8,
   "metadata": {},
   "outputs": [
    {
     "name": "stdout",
     "output_type": "stream",
     "text": [
      "The total of your hand is 17\n",
      "What would you like to do? (HIT or STAY)STAY\n",
      "You Won. Congratulations!!!\n",
      "Would you like to play another hand (YES or NO):YES\n",
      "The total of your hand is 7\n",
      "What would you like to do? (HIT or STAY)HIT\n",
      "The total of your hand is 10\n",
      "What would you like to do? (HIT or STAY)HIT\n",
      "The total of your hand is 20\n",
      "What would you like to do? (HIT or STAY)STAY\n",
      "You Won. Congratulations!!!\n",
      "Would you like to play another hand (YES or NO):YES\n",
      "The total of your hand is 9\n",
      "What would you like to do? (HIT or STAY)HIT\n",
      "The total of your hand is 15\n",
      "What would you like to do? (HIT or STAY)HIT\n",
      "The total of your hand is 19\n",
      "What would you like to do? (HIT or STAY)STAY\n",
      "You Won. Congratulations!!!\n",
      "Would you like to play another hand (YES or NO):NO\n",
      "Thank you!!! See you next time.\n"
     ]
    }
   ],
   "source": [
    "main()"
   ]
  }
 ],
 "metadata": {
  "hide_input": false,
  "kernelspec": {
   "display_name": "Python 3",
   "language": "python",
   "name": "python3"
  },
  "language_info": {
   "codemirror_mode": {
    "name": "ipython",
    "version": 3
   },
   "file_extension": ".py",
   "mimetype": "text/x-python",
   "name": "python",
   "nbconvert_exporter": "python",
   "pygments_lexer": "ipython3",
   "version": "3.8.3"
  },
  "toc": {
   "base_numbering": 1,
   "nav_menu": {},
   "number_sections": true,
   "sideBar": true,
   "skip_h1_title": false,
   "title_cell": "Table of Contents",
   "title_sidebar": "Contents",
   "toc_cell": false,
   "toc_position": {},
   "toc_section_display": true,
   "toc_window_display": false
  },
  "varInspector": {
   "cols": {
    "lenName": 16,
    "lenType": 16,
    "lenVar": 40
   },
   "kernels_config": {
    "python": {
     "delete_cmd_postfix": "",
     "delete_cmd_prefix": "del ",
     "library": "var_list.py",
     "varRefreshCmd": "print(var_dic_list())"
    },
    "r": {
     "delete_cmd_postfix": ") ",
     "delete_cmd_prefix": "rm(",
     "library": "var_list.r",
     "varRefreshCmd": "cat(var_dic_list()) "
    }
   },
   "types_to_exclude": [
    "module",
    "function",
    "builtin_function_or_method",
    "instance",
    "_Feature"
   ],
   "window_display": false
  }
 },
 "nbformat": 4,
 "nbformat_minor": 4
}
